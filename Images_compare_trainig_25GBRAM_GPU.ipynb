{
  "nbformat": 4,
  "nbformat_minor": 0,
  "metadata": {
    "colab": {
      "name": "Images_compare_trainig_25GBRAM_GPU.ipynb",
      "provenance": [],
      "collapsed_sections": [],
      "machine_shape": "hm"
    },
    "kernelspec": {
      "display_name": "Python 3",
      "name": "python3"
    },
    "accelerator": "GPU"
  },
  "cells": [
    {
      "cell_type": "markdown",
      "metadata": {
        "id": "WXditn12LU-K"
      },
      "source": [
        "#Монтируем гугл диск \n",
        "(выполнить ячейку: shift+enter)"
      ]
    },
    {
      "cell_type": "code",
      "metadata": {
        "colab": {
          "base_uri": "https://localhost:8080/"
        },
        "id": "c9Y9njaY4gpw",
        "outputId": "a873ceec-b75c-4013-f6c6-2baf32ccafdb"
      },
      "source": [
        "from google.colab import drive  \n",
        "drive.mount('/content/drive')"
      ],
      "execution_count": 1,
      "outputs": [
        {
          "output_type": "stream",
          "text": [
            "Drive already mounted at /content/drive; to attempt to forcibly remount, call drive.mount(\"/content/drive\", force_remount=True).\n"
          ],
          "name": "stdout"
        }
      ]
    },
    {
      "cell_type": "markdown",
      "metadata": {
        "id": "ZtMD39qILapF"
      },
      "source": [
        "#Переходим в директорию с проектом (для удобства). Это папку необходимо создать. Можно руками в гугл диске, можно здесь через mkdir\n",
        "#Также внутри images_compare создайте папку model_folder\n",
        "#Не забудьте создать папки, это важно."
      ]
    },
    {
      "cell_type": "code",
      "metadata": {
        "colab": {
          "base_uri": "https://localhost:8080/"
        },
        "id": "ObsQ2z2ibxZl",
        "outputId": "8df7d550-2500-4b39-91e5-aecb07566ca7"
      },
      "source": [
        "cd drive/MyDrive/images_compare"
      ],
      "execution_count": 2,
      "outputs": [
        {
          "output_type": "stream",
          "text": [
            "/content/drive/MyDrive/images_compare\n"
          ],
          "name": "stdout"
        }
      ]
    },
    {
      "cell_type": "markdown",
      "metadata": {
        "id": "rzgRLsUILofX"
      },
      "source": [
        "#Импорт необходимых библиотек"
      ]
    },
    {
      "cell_type": "code",
      "metadata": {
        "id": "G6-JmU_EgPhU"
      },
      "source": [
        "from tensorflow.keras.models import Model\n",
        "from tensorflow.keras.layers import Input\n",
        "from tensorflow.keras.layers import Conv2D\n",
        "from tensorflow.keras.layers import Dense\n",
        "from tensorflow.keras.layers import Dropout\n",
        "from tensorflow.keras.layers import GlobalAveragePooling2D\n",
        "from tensorflow.keras.layers import MaxPooling2D\n",
        "from tensorflow.keras.datasets import mnist\n",
        "import tensorflow.keras.backend as K\n",
        "from tensorflow.keras.layers import Lambda\n",
        "import tensorflow as tf\n",
        "import numpy as np\n",
        "import matplotlib.pyplot as plt\n",
        "import cv2"
      ],
      "execution_count": 3,
      "outputs": []
    },
    {
      "cell_type": "markdown",
      "metadata": {
        "id": "KTAaoHt_LtWO"
      },
      "source": [
        "#Функция для создания модели"
      ]
    },
    {
      "cell_type": "code",
      "metadata": {
        "id": "6zUrSE4Gk3zh"
      },
      "source": [
        "#Добавил немного описания, но не думаю, что вам это нужно. Однако если захотите углубиться, всё легко гуглится по этим названиям.\n",
        "def build_model(inputShape):\n",
        "    # Определяем вход\n",
        "    inputs = Input(inputShape)\n",
        "    # Первый слой по порядку: свертка - функция активации \"relu\" - пулинг - дропаут\n",
        "    x = Conv2D(64, (2, 2), padding=\"same\", activation=\"relu\")(inputs)\n",
        "    x = MaxPooling2D(pool_size=(2, 2))(x)\n",
        "    x = Dropout(0.3)(x)\n",
        "    # Второй: свертка - функция активации \"relu\" - пулинг - дропаут\n",
        "    x = Conv2D(64, (2, 2), padding=\"same\", activation=\"relu\")(x)\n",
        "    x = MaxPooling2D(pool_size=2)(x)\n",
        "    x = Dropout(0.3)(x)\n",
        "    # Выход\n",
        "    pooledOutput = GlobalAveragePooling2D()(x)\n",
        "    outputs = Dense(48)(pooledOutput)\n",
        "    # Само построение модели\n",
        "    model = Model(inputs, outputs)\n",
        "    \n",
        "    return model"
      ],
      "execution_count": 7,
      "outputs": []
    },
    {
      "cell_type": "code",
      "metadata": {
        "id": "kvQb3oMUb74-"
      },
      "source": [
        "#Скачиваем датасет, это знаменитый MNIST. Никогда его не использовал, но наконец-то пригодился\n",
        "(trainX, trainY), (testX, testY) = mnist.load_data()\n",
        "trainX = trainX / 255.0 # /255 чтобы значения были типа float в диапазоне [0-1]\n",
        "testX = testX / 255.0"
      ],
      "execution_count": 8,
      "outputs": []
    },
    {
      "cell_type": "code",
      "metadata": {
        "id": "7AWcwfaJb9jd"
      },
      "source": [
        "#Создаем структуру, в которую перезапишем изображения с измененным размером (изначально они были 28х28, станут такими, как решите, переменная IMG_SIZE).\n",
        "#Лучше делать ресайз в квадратные картинки, какими они и были изначально, поэтому вместо Hight, Weight используем одну переменную IMG_SIZE. Можете поменять, как вам будет удобно и перейти к W,H.\n",
        "#n_of_images_from_ds - количество изображений из датасета, которое вы хотите взять, дальше увидите.\n",
        "IMG_SIZE = 50\n",
        "n_of_images_from_ds = 10000\n",
        "trainXX = np.ones((n_of_images_from_ds,IMG_SIZE,IMG_SIZE))\n",
        "testXX = np.ones((n_of_images_from_ds//5,IMG_SIZE,IMG_SIZE))"
      ],
      "execution_count": 9,
      "outputs": []
    },
    {
      "cell_type": "markdown",
      "metadata": {
        "id": "qtjEWUELn_oc"
      },
      "source": [
        "#Теперь перебираем наш датасет (количество изображений, которое указали выше в n_images_from_ds), делаем ресайз каждого изображения и записываем его в новую структуру, где есть только нужные нам картинки"
      ]
    },
    {
      "cell_type": "code",
      "metadata": {
        "id": "hoB_asUsb_Yi"
      },
      "source": [
        "for n in range(len(trainX)): #перебор от 0 до 10000 в нашем случае\n",
        "    if n <= (n_of_images_from_ds-1): #\n",
        "      newimage = cv2.resize(trainX[n], (IMG_SIZE,IMG_SIZE), interpolation = cv2.INTER_AREA) #ресайз, понятно. Функцию интерполяции можете использовать любую, но для апскейла лучше эту.\n",
        "      trainXX[n] = newimage #перезапись ресайзнутой картинки в нужную ячейку"
      ],
      "execution_count": 10,
      "outputs": []
    },
    {
      "cell_type": "code",
      "metadata": {
        "id": "-qNJLA95cAX-"
      },
      "source": [
        "for n in range(len(testX)):  \n",
        "  if n <= (n_of_images_from_ds//5-1):\n",
        "    newimage = cv2.resize(testX[n], (IMG_SIZE,IMG_SIZE), interpolation = cv2.INTER_AREA)\n",
        "    testXX[n] = newimage"
      ],
      "execution_count": 11,
      "outputs": []
    },
    {
      "cell_type": "markdown",
      "metadata": {
        "id": "2U2JnkYqqno5"
      },
      "source": [
        "#Сейчас массив изображений имеет форму (10000,50,50), нужно добавить измерение, отражающее канал, чтобы стало (10000,50,50,1), 1 значит, что изображение грейскейл. Если 3 (как при загрузке любого изображения), то это цветное RGB, BGR. Можете посмотреть - trainXX.shape"
      ]
    },
    {
      "cell_type": "code",
      "metadata": {
        "id": "2A9nS9XZcBmN"
      },
      "source": [
        "trainXX = np.expand_dims(trainXX, axis=-1)\n",
        "testXX = np.expand_dims(testXX, axis=-1)"
      ],
      "execution_count": 12,
      "outputs": []
    },
    {
      "cell_type": "markdown",
      "metadata": {
        "id": "dfyB-iExyg91"
      },
      "source": [
        "В пару из trainXX будет ставиться trainYY, а количество у нас будет отличаться от дефолтного (60000), поэтому"
      ]
    },
    {
      "cell_type": "code",
      "metadata": {
        "id": "hH1V6ustd1W4"
      },
      "source": [
        "trainYY = [] \n",
        "testYY = []\n",
        "for x in range(n_of_images_from_ds):\n",
        "  trainYY.append(x)\n",
        "trainYY = np.asarray(trainYY)\n",
        "\n",
        "for x in range(n_of_images_from_ds//5):\n",
        "  testYY.append(x)\n",
        "testYY = np.asarray(testYY)"
      ],
      "execution_count": 13,
      "outputs": []
    },
    {
      "cell_type": "code",
      "metadata": {
        "id": "1bBVEQyse63C"
      },
      "source": [
        "#Функция, чтобы генерировать пары\n",
        "#Вы ей воспользуетесь один раз, чтобы сгенерировать пары для обучения, не расписываю\n",
        "def make_pairs(images, labels):\n",
        "    # Создаем вда пустых списка, хранящих пары\n",
        "    pairImages = []\n",
        "    pairLabels = []\n",
        "    # Считаем число классов в датасете, чтобы отличать каждый класс по индексу     \n",
        "    numClasses = len(np.unique(labels))\n",
        "    idx = [np.where(labels == i)[0] for i in range(0, numClasses)]    \n",
        "    for idxA in range(len(images)):        \n",
        "        currentImage = images[idxA]\n",
        "        label = labels[idxA]\n",
        "        \n",
        "        idxB = np.random.choice(idx[label])\n",
        "        posImage = images[idxB]\n",
        "        \n",
        "        pairImages.append([currentImage, posImage])\n",
        "        pairLabels.append([1])\n",
        "        \n",
        "        negIdx = np.where(labels != label)[0]\n",
        "        negImage = images[np.random.choice(negIdx)]\n",
        "        \n",
        "        pairImages.append([currentImage, negImage])\n",
        "        pairLabels.append([0])\n",
        "    \n",
        "    return np.array(pairImages), np.array(pairLabels)"
      ],
      "execution_count": 14,
      "outputs": []
    },
    {
      "cell_type": "code",
      "metadata": {
        "id": "tdI-tqCccC51"
      },
      "source": [
        "#Генерируем пары\n",
        "(pairTrain, labelTrain) = make_pairs(trainXX, trainYY)\n",
        "(pairTest, labelTest) = make_pairs(testXX, testYY)"
      ],
      "execution_count": 15,
      "outputs": []
    },
    {
      "cell_type": "code",
      "metadata": {
        "id": "qZTl-G1lcFO9"
      },
      "source": [
        "#конфигурируем модель, чтобы считать евклидово расстояние. Оно нужно для дальнейшего расчет коэффициента различия\n",
        "imgA = Input((IMG_SIZE,IMG_SIZE,1)) \n",
        "imgB = Input((IMG_SIZE,IMG_SIZE,1))\n",
        "Extractor = build_model((IMG_SIZE,IMG_SIZE,1)) \n",
        "A = Extractor(imgA)\n",
        "B = Extractor(imgB)"
      ],
      "execution_count": 16,
      "outputs": []
    },
    {
      "cell_type": "code",
      "metadata": {
        "id": "5pRo662wtv1B"
      },
      "source": [
        "#Функция для расчета евклидова расстояния\n",
        "def euclidean_distance(vectors):    \n",
        "    (A, B) = vectors\n",
        "    sumSquared = K.sum(K.square(A - B), axis=1, keepdims=True)    \n",
        "    return K.sqrt(K.maximum(sumSquared, K.epsilon()))"
      ],
      "execution_count": 17,
      "outputs": []
    },
    {
      "cell_type": "code",
      "metadata": {
        "id": "ArBWWxFrcPJV"
      },
      "source": [
        "#Определяем выход модели и объявляем её\n",
        "distance = Lambda(euclidean_distance)([A, B])\n",
        "model = Model(inputs=[imgA, imgB], outputs=distance)"
      ],
      "execution_count": 18,
      "outputs": []
    },
    {
      "cell_type": "code",
      "metadata": {
        "id": "F7-2bLwBcQ1V"
      },
      "source": [
        "#Удалим неиспользуемые структуры для освобождения ОЗУ (правый верхний угол, можно следить)\n",
        "del trainXX\n",
        "del testXX"
      ],
      "execution_count": 19,
      "outputs": []
    },
    {
      "cell_type": "code",
      "metadata": {
        "id": "MH_aC1JEwB3j"
      },
      "source": [
        "#Определяем функцию потерь (самая удобная, для подсчета разницы, их много в гугле)\n",
        "def loss(y, preds, margin=1):    \n",
        "    y = tf.cast(y, preds.dtype)    \n",
        "    squaredPreds = K.square(preds)\n",
        "    squaredMargin = K.square(K.maximum(margin - preds, 0))\n",
        "    loss = K.mean(y * squaredPreds + (1 - y) * squaredMargin)    \n",
        "    return loss"
      ],
      "execution_count": 20,
      "outputs": []
    },
    {
      "cell_type": "code",
      "metadata": {
        "id": "O7vtNxmrc9qE"
      },
      "source": [
        "#Компилируем модель с функцией потерь и оптимайзером \"Адам\", всё гуглится..\n",
        "model.compile(loss=loss, optimizer=\"adam\")"
      ],
      "execution_count": 21,
      "outputs": []
    },
    {
      "cell_type": "code",
      "metadata": {
        "colab": {
          "base_uri": "https://localhost:8080/"
        },
        "id": "lb0oCWTkcyD-",
        "outputId": "b8e546d2-c75d-4852-d6fa-c8422fe8ed65"
      },
      "source": [
        "#Запускаем обучение, советую эпох 200, но это будет мало (посмотрите на тестах), учитывая, что данных недостаточно, ведь весь датасет это 60000 изображений.\n",
        "#В дальнейшем увеличьте количество изображений (переменная n_of_images_from_ds) и эпох (epochs).\n",
        "history = model.fit([pairTrain[:, 0], pairTrain[:, 1]], labelTrain[:],\n",
        "                    validation_data=([pairTest[:, 0], pairTest[:, 1]], labelTest[:]),\n",
        "                    batch_size=64, epochs=100)"
      ],
      "execution_count": 22,
      "outputs": [
        {
          "output_type": "stream",
          "text": [
            "Epoch 1/10\n",
            "313/313 [==============================] - 7s 14ms/step - loss: 0.1321 - val_loss: 0.0505\n",
            "Epoch 2/10\n",
            "313/313 [==============================] - 4s 12ms/step - loss: 0.0640 - val_loss: 0.0426\n",
            "Epoch 3/10\n",
            "313/313 [==============================] - 4s 12ms/step - loss: 0.0575 - val_loss: 0.0376\n",
            "Epoch 4/10\n",
            "313/313 [==============================] - 4s 12ms/step - loss: 0.0556 - val_loss: 0.0364\n",
            "Epoch 5/10\n",
            "313/313 [==============================] - 4s 12ms/step - loss: 0.0533 - val_loss: 0.0403\n",
            "Epoch 6/10\n",
            "313/313 [==============================] - 4s 12ms/step - loss: 0.0489 - val_loss: 0.0255\n",
            "Epoch 7/10\n",
            "313/313 [==============================] - 4s 12ms/step - loss: 0.0374 - val_loss: 0.0238\n",
            "Epoch 8/10\n",
            "313/313 [==============================] - 4s 12ms/step - loss: 0.0353 - val_loss: 0.0234\n",
            "Epoch 9/10\n",
            "313/313 [==============================] - 4s 12ms/step - loss: 0.0328 - val_loss: 0.0221\n",
            "Epoch 10/10\n",
            "313/313 [==============================] - 4s 12ms/step - loss: 0.0321 - val_loss: 0.0194\n"
          ],
          "name": "stdout"
        }
      ]
    },
    {
      "cell_type": "code",
      "metadata": {
        "id": "ddWGkZzkc8Xu"
      },
      "source": [
        ""
      ],
      "execution_count": null,
      "outputs": []
    },
    {
      "cell_type": "code",
      "metadata": {
        "id": "5sLm69Zph8jM",
        "colab": {
          "base_uri": "https://localhost:8080/"
        },
        "outputId": "c559cbf3-b3b7-44e5-8071-c9b2c64a8ec6"
      },
      "source": [
        "#Сохраняем модель, для того, чтобы можно было её скачать и всегда использовать. Тестировать можете и здесь, но лично мне удобнее на локальной машине\n",
        "model.save(\"model_folder\")\n",
        "#можете посмотреть на диске, в этой папке модель будет называться saved_model.pb\n",
        "#Для того, чтобы её использовать в дальнейшем в тестах, копируйте не только её, но и все файлы и папки в папке \"model_folder\""
      ],
      "execution_count": 23,
      "outputs": [
        {
          "output_type": "stream",
          "text": [
            "INFO:tensorflow:Assets written to: model_folder/assets\n"
          ],
          "name": "stdout"
        }
      ]
    },
    {
      "cell_type": "code",
      "metadata": {
        "id": "X-TJSewxh8zV",
        "colab": {
          "base_uri": "https://localhost:8080/",
          "height": 299
        },
        "outputId": "dba987b8-9f4d-4c2b-aacf-710fcf6bc535"
      },
      "source": [
        "#Если хотите, постройте график обучения\n",
        "def plotting(H, plotPath):    \n",
        "    plt.style.use(\"ggplot\")\n",
        "    plt.figure()\n",
        "    plt.plot(H.history[\"loss\"], label=\"train_loss\")\n",
        "    plt.plot(H.history[\"val_loss\"], label=\"val_loss\")\n",
        "    plt.title(\"Training Loss\")\n",
        "    plt.xlabel(\"Epoch #\")\n",
        "    plt.ylabel(\"Loss\")\n",
        "    plt.legend(loc=\"lower left\")\n",
        "    plt.savefig(plotPath)\n",
        "\n",
        "plotting(history, 'training')"
      ],
      "execution_count": 28,
      "outputs": [
        {
          "output_type": "display_data",
          "data": {
            "image/png": "[encoded data removed]",
            "text/plain": [
              "<Figure size 432x288 with 1 Axes>"
            ]
          },
          "metadata": {
            "tags": []
          }
        }
      ]
    },
    {
      "cell_type": "code",
      "metadata": {
        "id": "O3xEAapBQk6K"
      },
      "source": [
        "#Вот и всё! Далее можно скачать модель (обязательно все файлы, не только saved_model.pb) и протестировать.\n",
        "#Чтобы сменить GPU на CPU: среда выполнения - сменить среду выполнения - аппаратный ускоритель.\n",
        "#Гугл ограничивает работу на GPU 8-ю часами в сутки. Так что если не проводите обучение, рекомендую использовать CPU, там нет ограничений.\n",
        "#В качестве бонуса и по секрету: стандартные блокноты colab имеют ограничение ОЗУ в 12 гб. Этот блокнот - 25 гб."
      ],
      "execution_count": null,
      "outputs": []
    }
  ]
}